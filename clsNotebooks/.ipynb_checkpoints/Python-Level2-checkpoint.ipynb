{
 "cells": [
  {
   "cell_type": "markdown",
   "id": "df9068fa",
   "metadata": {},
   "source": [
    "### Data Types Functions\n",
    "\n",
    "\n",
    "- Text Type:\tstr\n",
    "- Numeric Types:\tint, float, complex\n",
    "- Sequence Types:\tlist, tuple, range\n",
    "- Mapping Type:\tdict\n",
    "- Set Types:\tset, frozenset\n",
    "- Boolean Type:\tbool\n",
    "- Binary Types:\tbytes, bytearray, memoryview"
   ]
  },
  {
   "cell_type": "code",
   "execution_count": null,
   "id": "fc5da868",
   "metadata": {},
   "outputs": [],
   "source": [
    "x = \"Hello World\"\n",
    "type(x)\n",
    "\n",
    "x = 20\n",
    "type(x)\n",
    "\n",
    "x = 20.5\n",
    "type(x)\n",
    "\n",
    "\n",
    "x = 1j\n",
    "type(x)\n",
    "\n",
    "\n",
    "x = [\"apple\", \"banana\", \"cherry\"]\n",
    "type(x)\n",
    "\n",
    "\n",
    "x = (\"apple\", \"banana\", \"cherry\")\n",
    "type(x)\n",
    "\n",
    "\n",
    "x = range(6)\n",
    "type(x)\n",
    "\n",
    "\n",
    "x = {\"name\" : \"John\", \"age\" : 36}\n",
    "type(x)\n",
    "\n",
    "\n",
    "\n",
    "x = {\"apple\", \"banana\", \"cherry\"}\n",
    "type(x)\n",
    "\n",
    "\n",
    "x = frozenset({\"apple\", \"banana\", \"cherry\"})\n",
    "type(x)\n",
    "\n",
    "\n",
    "x = True\n",
    "type(x)\n",
    "\n",
    "\n",
    "x=b\"Hello\"\n",
    "type(x)\n",
    "\n",
    "\n",
    "x=bytearray(5)\n",
    "type(x)\n",
    "\n",
    "\n",
    "x=memoryview(bytes(5))\n",
    "\n",
    "type(x) #print(type(x))\n",
    "#print() "
   ]
  },
  {
   "cell_type": "code",
   "execution_count": null,
   "id": "3e11751b",
   "metadata": {},
   "outputs": [],
   "source": []
  },
  {
   "cell_type": "markdown",
   "id": "5a025d2d",
   "metadata": {},
   "source": [
    "### fundamental  steps to develop a program \n",
    "\n",
    "- The fundamental phases to develop any program or app or problem statement are\n",
    "\n",
    "\n",
    "#### 1. Algorithm  : Step by Step process to solve any specific task or problem statement.\n",
    "        -written using a single statements in English \n",
    "        -Should Have Definite Start and End  , Should Have Definite Number of steps.\n",
    "        - one problem can have many different algorithms \n",
    "        \n",
    "           ex:Preparing a tea\n",
    "   \n",
    "      ex: Multiply two numbers\n",
    "\n",
    "      STEP 1: START\n",
    "\n",
    "      STEP 2:DECLARE num1, num2\n",
    "\n",
    "      STEP 3: READ num1 ,num2\n",
    "\n",
    "      STEP 4: SET product = num1*num2\n",
    "\n",
    "      STEP 5: PRINT product\n",
    "\n",
    "      STEP6:END\n",
    "  \n",
    "  \n",
    "#### 2. Flow charts : Pictorial Representation of steps  , using symbols\n",
    "\n",
    "\n",
    "\n",
    "\n",
    "#### 3. Pseudocode :  Its similar version of programming code written in plain english , independent of program Lang\n",
    "\n",
    "        - It doesnt require any strict programming languange syntax\n",
    "        - It is easily readable and modular form\n",
    "        - Its is Code like language \n",
    "        ex:\n",
    "        \n",
    "        BEGIN \n",
    "        \n",
    "            DECLARE num\n",
    "            READ num \n",
    "            \n",
    "            IF num MOD 2 is ZERO THEN\n",
    "                PRINT \"EVEN\"\n",
    "            ELSE THEN\n",
    "                PRINT \"ODD\"\n",
    "            ENDIF\n",
    "        END\n",
    "\n",
    "  "
   ]
  },
  {
   "cell_type": "code",
   "execution_count": null,
   "id": "1d649e76",
   "metadata": {},
   "outputs": [],
   "source": [
    "# example-1 : Even-Odd Checking\n",
    "\n",
    "def evenoddchecker(num):\n",
    "    for n in num:\n",
    "        if (n%2==0):\n",
    "            print(n,\" EVEN\")\n",
    "        else:\n",
    "            print(n,\" ODD\")\n",
    "        \n",
    "        \n",
    "evenoddchecker(range(2,25))"
   ]
  },
  {
   "cell_type": "code",
   "execution_count": null,
   "id": "7ad1a139",
   "metadata": {},
   "outputs": [],
   "source": [
    "# examples-2 : Linear Search\n",
    "\n",
    "#INPUT \n",
    "\n",
    "alst = list(map(int,input().split()))\n",
    "\n",
    "print(lst)\n"
   ]
  },
  {
   "cell_type": "code",
   "execution_count": null,
   "id": "f9033899",
   "metadata": {},
   "outputs": [],
   "source": [
    "key = int(input(\"Enter the Key\"))\n",
    "\n",
    "#LOGIC CODE\n",
    "\n",
    "for ind in range(len(lst)):\n",
    "    if lst[ind] == key:\n",
    "        print(ind)\n",
    "        break\n",
    "else:\n",
    "    print(\"key not found\")\n",
    "    \n",
    "    \n",
    "# 0(n) = worst\n",
    "# 0(1) =  best \n",
    "# 0(n/2) = avg\n",
    "\n",
    "# Bineary Search ?  - O(logn)"
   ]
  },
  {
   "cell_type": "code",
   "execution_count": null,
   "id": "75754095",
   "metadata": {},
   "outputs": [],
   "source": [
    "# example - 3: sum of N natural numbers."
   ]
  },
  {
   "cell_type": "code",
   "execution_count": null,
   "id": "4019ffe3",
   "metadata": {},
   "outputs": [],
   "source": []
  },
  {
   "cell_type": "markdown",
   "id": "934bca31",
   "metadata": {},
   "source": [
    "### Statements\n",
    "\n",
    "**A program contains**\n",
    "\n",
    "- sequential statements  : Flow of execution is line by line \n",
    "- control statements    : Flow of execution depends on control expression\n",
    "- Iteratative Statements  : Flow of execution on Loops / Repeated Actions\n",
    "\n",
    "\n",
    "\n",
    "#### Conditional Statements\n",
    "\n",
    "- if  else\n",
    "- elif\n",
    "- nested if else\n",
    "\n",
    "**decision making statements**\n",
    "\n",
    "That is where control structures come in. A control structure directs the order of execution of the statements in a program.\n",
    "\n",
    "\n",
    "\n",
    "        if expr:\n",
    "\n",
    "            statement\n",
    "\n",
    "**Python relies on indentation (whitespace at the beginning of a line) to define scope in the code. Other programming languages often use curly-brackets for this purpose.**\n",
    "\n",
    "\n"
   ]
  },
  {
   "cell_type": "code",
   "execution_count": null,
   "id": "a1fd4cb9",
   "metadata": {},
   "outputs": [],
   "source": [
    "# syntax\n",
    "if condition:\n",
    "    this part of code runs for truthy conditions"
   ]
  },
  {
   "cell_type": "code",
   "execution_count": null,
   "id": "12aa74e5",
   "metadata": {},
   "outputs": [],
   "source": []
  },
  {
   "cell_type": "code",
   "execution_count": null,
   "id": "30f6e04f",
   "metadata": {},
   "outputs": [],
   "source": []
  },
  {
   "cell_type": "code",
   "execution_count": null,
   "id": "ba13823f",
   "metadata": {},
   "outputs": [],
   "source": [
    "msg = \"Hi\"\n",
    "\n",
    "if msg == \"Hi\":\n",
    "    print(\"Greeted\")\n",
    "    \n",
    "print(\"next lines\")"
   ]
  },
  {
   "cell_type": "code",
   "execution_count": null,
   "id": "8e734619",
   "metadata": {},
   "outputs": [],
   "source": []
  },
  {
   "cell_type": "code",
   "execution_count": null,
   "id": "641719ca",
   "metadata": {},
   "outputs": [],
   "source": [
    "# syntax\n",
    "if condition:\n",
    "    this part of code runs for truthy conditions\n",
    "else:\n",
    "     this part of code runs for false conditions"
   ]
  },
  {
   "cell_type": "code",
   "execution_count": null,
   "id": "517d78df",
   "metadata": {},
   "outputs": [],
   "source": []
  },
  {
   "cell_type": "code",
   "execution_count": null,
   "id": "96de1ec3",
   "metadata": {},
   "outputs": [],
   "source": [
    "num = 10\n",
    "\n",
    "if (num%2==0):\n",
    "    print(\"EVEN\")\n",
    "    print(\"BLOCK\")\n",
    "else:\n",
    "    print(\"ODD\")\n",
    "    print(\"BLOCK\")"
   ]
  },
  {
   "cell_type": "code",
   "execution_count": null,
   "id": "0f28d7f6",
   "metadata": {},
   "outputs": [],
   "source": []
  },
  {
   "cell_type": "code",
   "execution_count": null,
   "id": "d6c9c3f6",
   "metadata": {},
   "outputs": [],
   "source": [
    "if not True:\n",
    "    print(\"Hello\")\n",
    "else:\n",
    "    print(\"Bye\")"
   ]
  },
  {
   "cell_type": "code",
   "execution_count": null,
   "id": "9bea99cb",
   "metadata": {},
   "outputs": [],
   "source": []
  },
  {
   "cell_type": "code",
   "execution_count": null,
   "id": "39739719",
   "metadata": {},
   "outputs": [],
   "source": [
    "if 10<1:\n",
    "    print(\"TRUE\")\n",
    "else:\n",
    "    print(\"FALSE\")"
   ]
  },
  {
   "cell_type": "code",
   "execution_count": null,
   "id": "2f87f504",
   "metadata": {},
   "outputs": [],
   "source": []
  },
  {
   "cell_type": "code",
   "execution_count": null,
   "id": "291c3242",
   "metadata": {},
   "outputs": [],
   "source": [
    "if type(10) is int:\n",
    "    print(\"True\")\n",
    "    print(\"True Block\")\n",
    "else:\n",
    "    print(\"False\")\n",
    "    print(\"False block\")"
   ]
  },
  {
   "cell_type": "code",
   "execution_count": null,
   "id": "0f6797ae",
   "metadata": {},
   "outputs": [],
   "source": []
  },
  {
   "cell_type": "code",
   "execution_count": null,
   "id": "d814f281",
   "metadata": {},
   "outputs": [],
   "source": [
    "num1=10\n",
    "num2=11\n",
    "if (num1==num2):\n",
    "    print(\"EQUAL\")\n",
    "    print(\"world\")\n",
    "    print(\"hello\")\n",
    "    print(\"IF BLOCK\")\n",
    "else:\n",
    "    print(\"NOT EQUAL\")"
   ]
  },
  {
   "cell_type": "code",
   "execution_count": null,
   "id": "b4b07e37",
   "metadata": {},
   "outputs": [],
   "source": []
  },
  {
   "cell_type": "code",
   "execution_count": null,
   "id": "dd4843f4",
   "metadata": {},
   "outputs": [],
   "source": [
    "num1 = 10\n",
    "num2 = 100\n",
    "\n",
    "if num1 < num2: # if True Go Inside Else GOTO to the statement after IF block\n",
    "    print(num2 ,\"Greater\")\n",
    "    print(\"A\")\n",
    "    print(\"B\")\n",
    "    \n",
    "print(\"next statements\")\n",
    "print(\"next next \")"
   ]
  },
  {
   "cell_type": "code",
   "execution_count": null,
   "id": "85aa3a7e",
   "metadata": {},
   "outputs": [],
   "source": []
  },
  {
   "cell_type": "code",
   "execution_count": null,
   "id": "d1129f30",
   "metadata": {},
   "outputs": [],
   "source": [
    "num1 = 1\n",
    "num2 = 4\n",
    "if num1>num2:\n",
    "    print(num1 ,\"Greater\")\n",
    "else:\n",
    "    print(num1 ,\"<\" ,num2)\n",
    "    print('{} is less than {}'.format(num1,num2))# string 2.x\n",
    "    print(f'{num1} is less  than {num2}') #3.x"
   ]
  },
  {
   "cell_type": "code",
   "execution_count": null,
   "id": "4622e8e4",
   "metadata": {},
   "outputs": [],
   "source": []
  },
  {
   "cell_type": "code",
   "execution_count": null,
   "id": "efd0d222",
   "metadata": {},
   "outputs": [],
   "source": [
    "if 'bar' in ['bar', 'baz', 'qux']:\n",
    "    print('Expression was true')\n",
    "    print('Executing statement in suite')\n",
    "    print('...')\n",
    "    print('Done.')\n",
    "\n",
    "else:\n",
    "    print(\"Not Present\")\n",
    "print('After conditional')"
   ]
  },
  {
   "cell_type": "code",
   "execution_count": null,
   "id": "254dd044",
   "metadata": {},
   "outputs": [],
   "source": []
  },
  {
   "cell_type": "code",
   "execution_count": null,
   "id": "fc407f5c",
   "metadata": {},
   "outputs": [],
   "source": [
    "if type(\"Kumar\") is str:\n",
    "    print(\"Hey Hi\")"
   ]
  },
  {
   "cell_type": "code",
   "execution_count": null,
   "id": "d42d8893",
   "metadata": {},
   "outputs": [],
   "source": []
  },
  {
   "cell_type": "code",
   "execution_count": null,
   "id": "e09dd139",
   "metadata": {},
   "outputs": [],
   "source": [
    "if 'zy' in 'python':                # Truthy\n",
    "    print('yes')\n",
    "else:\n",
    "    print(\"NO\")"
   ]
  },
  {
   "cell_type": "code",
   "execution_count": null,
   "id": "233bdb50",
   "metadata": {},
   "outputs": [],
   "source": []
  },
  {
   "cell_type": "code",
   "execution_count": null,
   "id": "f203603c",
   "metadata": {},
   "outputs": [],
   "source": [
    "tomorrow = \"No Holiday\"\n",
    "\n",
    "if tomorrow == \"Holiday\":\n",
    "    print(\"Plan a Movie !\")\n",
    "\n",
    "else:\n",
    "    print(\"Gotta go Office !\")"
   ]
  },
  {
   "cell_type": "code",
   "execution_count": null,
   "id": "d5c3ab83",
   "metadata": {},
   "outputs": [],
   "source": []
  },
  {
   "cell_type": "code",
   "execution_count": null,
   "id": "b624228c",
   "metadata": {},
   "outputs": [],
   "source": [
    "num = int(input()) # default input() will read only strings \"10\" \"10.2\"\n",
    "\n",
    "if (num % 2==0): # True\n",
    "    print(\"it is an  even\")\n",
    "\n",
    "else: #False\n",
    "    print(\"it is an odd\")\n",
    "    "
   ]
  },
  {
   "cell_type": "code",
   "execution_count": null,
   "id": "9683130d",
   "metadata": {},
   "outputs": [],
   "source": []
  },
  {
   "cell_type": "markdown",
   "id": "78d7b291",
   "metadata": {},
   "source": [
    "#### elif\n",
    "\n",
    "- Handling the mutliple conditions \n",
    "- The elif keyword in python a way of saying \"if the previous conditions were not true, then try this condition\"."
   ]
  },
  {
   "cell_type": "code",
   "execution_count": null,
   "id": "0f1e79fb",
   "metadata": {},
   "outputs": [],
   "source": [
    "a = 32\n",
    "b = 34\n",
    "if b > a:\n",
    "    print(\"b is greater than a\")\n",
    "elif a%2==0: \n",
    "    print(\"a and b are equal\")\n",
    "else:\n",
    "    print(\"not equal\")\n",
    "\n",
    "print(\"Hello \")"
   ]
  },
  {
   "cell_type": "code",
   "execution_count": null,
   "id": "6a394f67",
   "metadata": {},
   "outputs": [],
   "source": []
  },
  {
   "cell_type": "code",
   "execution_count": null,
   "id": "46d03e51",
   "metadata": {},
   "outputs": [],
   "source": [
    "name = input(\"Enter the Name\")\n",
    "\n",
    "\n",
    "if name == 'Fred':\n",
    "    print('Hello Fred')\n",
    "elif name == 'Xander':\n",
    "    print('Hello Xander')\n",
    "elif name == 'Joe':\n",
    "    print('Hello Joe')\n",
    "elif name == \"Joe\":\n",
    "    print('Hello Arnold')\n",
    "else:\n",
    "    print(\"I don't know who you are!\")\n",
    "\n",
    "print(\"Normal flow\")\n",
    "print(10+20)"
   ]
  },
  {
   "cell_type": "code",
   "execution_count": null,
   "id": "32b7ce5c",
   "metadata": {},
   "outputs": [],
   "source": []
  },
  {
   "cell_type": "markdown",
   "id": "b5b99865",
   "metadata": {},
   "source": [
    "#### multiple if's\n",
    "    - #In multiple if's , each and very condition is checked =>  even if the previous if is true"
   ]
  },
  {
   "cell_type": "code",
   "execution_count": null,
   "id": "16fd1dcc",
   "metadata": {},
   "outputs": [],
   "source": [
    "#in multiple if , each and very condition is checked =>  even if the previous if is true or false.\n",
    "data = 10\n",
    "if data>=10:\n",
    "    print(\"HI\")\n",
    "    \n",
    "if type(data) is int:\n",
    "    print(\"Hey\")\n",
    "    \n",
    "if type(data) is str:\n",
    "    print(\"Hello\")\n",
    "    \n",
    "else:\n",
    "    print(\"Bye Bye\")\n",
    "print(\"Continue from if else\")"
   ]
  },
  {
   "cell_type": "code",
   "execution_count": null,
   "id": "a5baa6ef",
   "metadata": {},
   "outputs": [],
   "source": []
  },
  {
   "cell_type": "code",
   "execution_count": null,
   "id": "cfb44207",
   "metadata": {},
   "outputs": [],
   "source": [
    "data = 10\n",
    "if data>10:\n",
    "    print(\"HI\")\n",
    "    \n",
    "elif type(data) is int:\n",
    "    print(\"Hey\")\n",
    "    \n",
    "elif type(data) is str:\n",
    "    print(\"Hello\")\n",
    "    \n",
    "else:\n",
    "    print(\"Bye Bye\")\n",
    "    \n",
    "print(\"Continue from if else\")"
   ]
  },
  {
   "cell_type": "markdown",
   "id": "9164530d",
   "metadata": {},
   "source": [
    "#### excercise \n",
    "    "
   ]
  },
  {
   "cell_type": "code",
   "execution_count": null,
   "id": "87447d72",
   "metadata": {},
   "outputs": [],
   "source": [
    "#grade example \n",
    "\n",
    "marks = [10,9,8,7,6]\n",
    "\n",
    "sum1 = sum(marks)\n",
    "print(\"sum is \",sum1)\n",
    "n = len(marks)\n",
    "avg = sum1/n\n",
    "\n",
    "print(\"the average is \",avg)\n",
    "\n",
    "print(avg,sum1)\n",
    "\n",
    "if avg > 9:\n",
    "    print(\"A\")\n",
    "elif avg>8:\n",
    "    print(\"B\")\n",
    "elif avg>7:\n",
    "    print(\"C\")\n",
    "elif avg>6:\n",
    "    print(\"D\")\n",
    "else:\n",
    "    print(\"Fail\")"
   ]
  },
  {
   "cell_type": "code",
   "execution_count": null,
   "id": "3845c8cb",
   "metadata": {},
   "outputs": [],
   "source": []
  },
  {
   "cell_type": "code",
   "execution_count": null,
   "id": "747b44cc",
   "metadata": {},
   "outputs": [],
   "source": [
    "#grade example \n",
    "\n",
    "marks = [10,9,8,7,6]\n",
    "\n",
    "sum1 = sum(marks)\n",
    "print(\"sum is \",sum1)\n",
    "n = len(marks)\n",
    "avg = sum1/n\n",
    "\n",
    "print(\"the average is \",avg)\n",
    "\n",
    "# print(avg,sum1)\n",
    "\n",
    "if avg > 9:\n",
    "    print(\"A\")\n",
    "if avg>8:\n",
    "    print(\"B\")\n",
    "if avg>7:\n",
    "    print(\"C\")\n",
    "if avg>6:\n",
    "    print(\"D\")\n",
    "else:\n",
    "    print(\"Fail\")\n",
    "\n",
    "                "
   ]
  },
  {
   "cell_type": "code",
   "execution_count": null,
   "id": "f470966b",
   "metadata": {},
   "outputs": [],
   "source": []
  },
  {
   "cell_type": "code",
   "execution_count": null,
   "id": "4437a3f0",
   "metadata": {},
   "outputs": [],
   "source": []
  },
  {
   "cell_type": "markdown",
   "id": "76bb61d4",
   "metadata": {},
   "source": [
    "### nested if\n",
    "    - writing if & else block inside another if & else block\n"
   ]
  },
  {
   "cell_type": "code",
   "execution_count": null,
   "id": "d8993244",
   "metadata": {},
   "outputs": [],
   "source": [
    "passwds = {\"phonepwd\":\"123\"}\n",
    "\n",
    "input_passwd = input(\"enter the passwd to unlock the device: \")\n",
    "\n",
    "if (input_passwd == passwds[\"phonepwd\"]):\n",
    "    print('Welcome unlocked')\n",
    "else:\n",
    "    print('Please try again')"
   ]
  },
  {
   "cell_type": "code",
   "execution_count": null,
   "id": "21c26879",
   "metadata": {},
   "outputs": [],
   "source": []
  },
  {
   "cell_type": "code",
   "execution_count": null,
   "id": "45348490",
   "metadata": {},
   "outputs": [],
   "source": [
    "# voting example \n",
    "\n",
    "age = int(input(\"Enter the Age?: \"))\n",
    "\n",
    "\n",
    "if age>=18:\n",
    "    voter_id = input(\"Do you have Voter Id?: Y/N\")\n",
    "    if voter_id == \"Y\":\n",
    "        print(\"Eligible to vote \")\n",
    "    else:\n",
    "        print(\"Apply for the card\")\n",
    "else:\n",
    "    print(\"not eligible to vote\")\n",
    "   "
   ]
  },
  {
   "cell_type": "code",
   "execution_count": null,
   "id": "af61df2e",
   "metadata": {},
   "outputs": [],
   "source": []
  },
  {
   "cell_type": "code",
   "execution_count": null,
   "id": "eff9f257",
   "metadata": {},
   "outputs": [],
   "source": [
    "a=int(input(\"Enter num1=\"))\n",
    "b=int(input(\"Enter num2=\"))\n",
    "c=int(input(\"Enter num3=\"))\n",
    "# 3 9 6\n",
    "if a>b:\n",
    "    if a>c:\n",
    "        print(a)\n",
    "    else:\n",
    "        print(c)\n",
    "else:\n",
    "    if(b>c):\n",
    "        print(b)\n",
    "    else:\n",
    "        print(c)"
   ]
  },
  {
   "cell_type": "code",
   "execution_count": null,
   "id": "c04dfca9",
   "metadata": {},
   "outputs": [],
   "source": [
    "# optimized\n",
    "\n",
    "\n",
    "a=int(input(\"Enter num1: \"))\n",
    "b=int(input(\"Enter num2: \"))\n",
    "c=int(input(\"Enter num3: \"))\n",
    "\n",
    "if (a>b and a>c):\n",
    "    print(a)\n",
    "elif (b>a and b>c):\n",
    "    print(b)\n",
    "else:\n",
    "    print(c)"
   ]
  },
  {
   "cell_type": "code",
   "execution_count": null,
   "id": "0e8619d6",
   "metadata": {},
   "outputs": [],
   "source": []
  },
  {
   "cell_type": "code",
   "execution_count": null,
   "id": "41420593",
   "metadata": {},
   "outputs": [],
   "source": []
  },
  {
   "cell_type": "code",
   "execution_count": null,
   "id": "82c32318",
   "metadata": {},
   "outputs": [],
   "source": [
    "#excercise \n",
    "\n",
    "\n",
    "a =  int(input()) #5\n",
    "b = int(input())  #2\n",
    "\n",
    "if a>5:\n",
    "    if a>=10:\n",
    "        print(\" If Block It's greater\")\n",
    "    else:\n",
    "        print(\"It's not greater\")\n",
    "else:\n",
    "    a+=5 #a = a+5\n",
    "    b=-5\n",
    "    if(a>=10):\n",
    "        print(\" Else Block It's greater\")\n",
    "    else:\n",
    "        print(\"Lesser\")"
   ]
  },
  {
   "cell_type": "code",
   "execution_count": null,
   "id": "ee5a3629",
   "metadata": {},
   "outputs": [],
   "source": [
    "num =  int(input(\"Enter the NUM \")) #11\n",
    "if num<=10:\n",
    "    num-=1\n",
    "    if num<=8:\n",
    "        num-=2\n",
    "        if num<=5:\n",
    "            num+=2\n",
    "            if num<=0:\n",
    "                print(\"Hello\")\n",
    "            else:\n",
    "                print(\"Bye\")\n",
    "        else:\n",
    "            print(\"else-1\")\n",
    "    else:\n",
    "        print(\"else -2\")\n",
    "else:\n",
    "    print(\"else -3\")"
   ]
  },
  {
   "cell_type": "code",
   "execution_count": null,
   "id": "34ba3a0f",
   "metadata": {},
   "outputs": [],
   "source": []
  },
  {
   "cell_type": "code",
   "execution_count": null,
   "id": "279470a2",
   "metadata": {},
   "outputs": [],
   "source": []
  },
  {
   "cell_type": "markdown",
   "id": "157a7128",
   "metadata": {},
   "source": [
    "####  Short Hand If else\n",
    "    If you have only one statement to execute, \n",
    "     \n",
    "     you can put it on the same line as the if statement.\n",
    "    "
   ]
  },
  {
   "cell_type": "code",
   "execution_count": null,
   "id": "0065b0be",
   "metadata": {},
   "outputs": [],
   "source": [
    "a = True  #1\n",
    "\n",
    "b= False  #0\n",
    "\n",
    "if a>b: print(\"A is Greater\")\n",
    "print(a,b)"
   ]
  },
  {
   "cell_type": "code",
   "execution_count": null,
   "id": "f7029307",
   "metadata": {},
   "outputs": [],
   "source": []
  },
  {
   "cell_type": "code",
   "execution_count": null,
   "id": "cf306769",
   "metadata": {},
   "outputs": [],
   "source": [
    "\n",
    "print(\"True\") if a<b else print(\"False\")"
   ]
  },
  {
   "cell_type": "code",
   "execution_count": null,
   "id": "431ce2cc",
   "metadata": {},
   "outputs": [],
   "source": []
  },
  {
   "cell_type": "markdown",
   "id": "ab8d11ec",
   "metadata": {},
   "source": [
    "#### excercise "
   ]
  },
  {
   "cell_type": "code",
   "execution_count": null,
   "id": "b457ed47",
   "metadata": {},
   "outputs": [],
   "source": [
    "print(len([]))\n",
    "print(bool(()))\n",
    "print(bool(0))\n",
    "print(bool(0.0))\n",
    "print(bool(\"\"))"
   ]
  },
  {
   "cell_type": "code",
   "execution_count": null,
   "id": "f3e303ba",
   "metadata": {},
   "outputs": [],
   "source": [
    "if \"\":\n",
    "    print(\"hello\")\n",
    "    print(\"True\")"
   ]
  },
  {
   "cell_type": "code",
   "execution_count": null,
   "id": "ba37ab88",
   "metadata": {},
   "outputs": [],
   "source": []
  },
  {
   "cell_type": "code",
   "execution_count": null,
   "id": "36060c8c",
   "metadata": {},
   "outputs": [],
   "source": [
    "if []:\n",
    "    print(\"hello\")\n",
    "    print(\"True\")\n",
    "else:\n",
    "    print(\"Bye bye\")"
   ]
  },
  {
   "cell_type": "code",
   "execution_count": null,
   "id": "b424ad93",
   "metadata": {},
   "outputs": [],
   "source": []
  },
  {
   "cell_type": "code",
   "execution_count": null,
   "id": "8c62c303",
   "metadata": {},
   "outputs": [],
   "source": []
  },
  {
   "cell_type": "markdown",
   "id": "1e7728be",
   "metadata": {},
   "source": [
    "### Looping \n",
    "\n",
    "- Sometimes it may be neccessary to repeat the certain process until a certain condition is met.\n",
    "- It's a process of repeating a set of statments\n",
    "\n",
    "    In python , there are 2 loops"
   ]
  },
  {
   "cell_type": "markdown",
   "id": "712cf1e3",
   "metadata": {},
   "source": [
    "#### For loop\n",
    "\n",
    "- A for loop is used for iterating over a sequence (that is either a list, a tuple, a dictionary, a set, or a string).\n",
    "\n",
    "- With the for loop we can execute a set of statements, once for each item in a list, tuple, set etc.\n",
    "\n",
    "-  For loop is preferred when we know the no of iterations in advance. \n",
    "\n",
    ">syntax:\n",
    "\n",
    "- for var in sequence:\n",
    "    \n",
    "    statements"
   ]
  },
  {
   "cell_type": "code",
   "execution_count": null,
   "id": "100a52b1",
   "metadata": {},
   "outputs": [],
   "source": []
  },
  {
   "cell_type": "code",
   "execution_count": null,
   "id": "a2f555b6",
   "metadata": {},
   "outputs": [],
   "source": [
    "# without loops\n",
    "\n",
    "# print(\"Hello\")\n",
    "# print(\"Hello\")\n",
    "# print(\"Hello\")\n",
    "# print(\"Hello\")\n",
    "# print(\"Hello\")\n",
    "# print(\"Hello\")\n",
    "# print(\"Hello\")\n",
    "# print(\"Hello\")\n",
    "# print(\"Hello\")\n",
    "\n"
   ]
  },
  {
   "cell_type": "code",
   "execution_count": null,
   "id": "2038d051",
   "metadata": {},
   "outputs": [],
   "source": []
  },
  {
   "cell_type": "code",
   "execution_count": null,
   "id": "b9cf2409",
   "metadata": {},
   "outputs": [],
   "source": [
    "# with loops\n",
    "\n",
    "for i in range(1,10,1):\n",
    "    print(\"hello\" , end=\" \")"
   ]
  },
  {
   "cell_type": "code",
   "execution_count": null,
   "id": "150d12a5",
   "metadata": {},
   "outputs": [],
   "source": []
  },
  {
   "cell_type": "code",
   "execution_count": null,
   "id": "97e80ffd",
   "metadata": {},
   "outputs": [],
   "source": [
    "list(range(0,10,1)) # start , stop , step"
   ]
  },
  {
   "cell_type": "code",
   "execution_count": null,
   "id": "cc6d9e1e",
   "metadata": {},
   "outputs": [],
   "source": []
  },
  {
   "cell_type": "code",
   "execution_count": null,
   "id": "2714394a",
   "metadata": {},
   "outputs": [],
   "source": [
    "for i in range(1,10,1):\n",
    "    print(i,end=\" \")"
   ]
  },
  {
   "cell_type": "code",
   "execution_count": null,
   "id": "29b3acfe",
   "metadata": {},
   "outputs": [],
   "source": []
  },
  {
   "cell_type": "code",
   "execution_count": null,
   "id": "ca3d4a09",
   "metadata": {},
   "outputs": [],
   "source": [
    "for i in range(1,10,1):\n",
    "    print(i**2,end=\" \")"
   ]
  },
  {
   "cell_type": "code",
   "execution_count": null,
   "id": "6e94a020",
   "metadata": {},
   "outputs": [],
   "source": []
  },
  {
   "cell_type": "code",
   "execution_count": null,
   "id": "4903df47",
   "metadata": {},
   "outputs": [],
   "source": [
    "for i in range(1,10,1):\n",
    "    print(\"Hello User\",i)\n",
    "    \n",
    "print(\"out of loop\")\n",
    "print(10+20)"
   ]
  },
  {
   "cell_type": "code",
   "execution_count": null,
   "id": "547d3ba2",
   "metadata": {},
   "outputs": [],
   "source": []
  },
  {
   "cell_type": "code",
   "execution_count": null,
   "id": "4437dd86",
   "metadata": {},
   "outputs": [],
   "source": [
    "for ak in range(0,10):\n",
    "    print(ak)\n",
    "    print(\"HEllo\")\n",
    "    print(\"Hi\")\n",
    "\n",
    "print(ak)"
   ]
  },
  {
   "cell_type": "code",
   "execution_count": null,
   "id": "4cc6178c",
   "metadata": {},
   "outputs": [],
   "source": []
  },
  {
   "cell_type": "code",
   "execution_count": null,
   "id": "45d7294e",
   "metadata": {},
   "outputs": [],
   "source": [
    "\n",
    "    \n",
    "num = 9\n",
    "i = 1\n",
    "print(f'{num} * {i} = {num*i}')\n",
    "i+=1\n",
    "print(f'{num} * {i} = {num*i}')\n",
    "\n",
    "i+=1\n",
    "print(f'{num} * {i} = {num*i}')\n",
    "i+=1\n",
    "print(f'{num} * {i} = {num*i}')\n",
    "i+=1\n",
    "print(f'{num} * {i} = {num*i}')\n",
    "i+=1\n",
    "print(f'{num} * {i} = {num*i}')\n",
    "i+=1\n",
    "print(f'{num} * {i} = {num*i}')\n",
    "i+=1\n",
    "print(f'{num} * {i} = {num*i}')\n",
    "i+=1\n",
    "print(f'{num} * {i} = {num*i}')\n",
    "i+=1\n",
    "print(f'{num} * {i} = {num*i}')"
   ]
  },
  {
   "cell_type": "code",
   "execution_count": null,
   "id": "9dcc2e3e",
   "metadata": {},
   "outputs": [],
   "source": [
    "num = int(input(\"Enter the number\"))\n",
    "\n",
    "for i in range(1,11):\n",
    "    print(f'{num} * {i} = {num*i}')"
   ]
  },
  {
   "cell_type": "code",
   "execution_count": null,
   "id": "e5a1f7c0",
   "metadata": {},
   "outputs": [],
   "source": []
  },
  {
   "cell_type": "markdown",
   "id": "3ce9602a",
   "metadata": {},
   "source": [
    "#### print base FOR-LOOP\n",
    "    - Mainly used for printing & filtering purpose\n",
    "    - Don't have access to the index locations.\n",
    "    - Can be used on ALL-TYPES : List,Tuple , Set , Str , Dictionary"
   ]
  },
  {
   "cell_type": "code",
   "execution_count": null,
   "id": "b34eb987",
   "metadata": {},
   "outputs": [],
   "source": [
    "# list \n",
    "\n",
    "marks = [90,76,72,272]\n",
    "\n",
    "for m in marks:\n",
    "    print(m)"
   ]
  },
  {
   "cell_type": "code",
   "execution_count": null,
   "id": "a44a29ba",
   "metadata": {},
   "outputs": [],
   "source": []
  },
  {
   "cell_type": "code",
   "execution_count": null,
   "id": "95d3327b",
   "metadata": {},
   "outputs": [],
   "source": [
    "# tuple\n",
    "prices = (55.2,90.2,67.2,51.2,10/3)\n",
    "\n",
    "for p in prices:\n",
    "    print(p)"
   ]
  },
  {
   "cell_type": "code",
   "execution_count": null,
   "id": "5b33497a",
   "metadata": {},
   "outputs": [],
   "source": []
  },
  {
   "cell_type": "code",
   "execution_count": null,
   "id": "baa3bf79",
   "metadata": {},
   "outputs": [],
   "source": [
    "# str\n",
    "name = \"Kumar R\"\n",
    "\n",
    "for ch in name:\n",
    "    print(ch)"
   ]
  },
  {
   "cell_type": "code",
   "execution_count": null,
   "id": "caadde5c",
   "metadata": {},
   "outputs": [],
   "source": []
  },
  {
   "cell_type": "code",
   "execution_count": null,
   "id": "b6975cee",
   "metadata": {},
   "outputs": [],
   "source": [
    "# set \n",
    "\n",
    "colors = {\"blue\",\"red\",\"yellow\",\"blue\",\"red\",\"orange\"}\n",
    "\n",
    "for c in colors:\n",
    "    print(c)"
   ]
  },
  {
   "cell_type": "code",
   "execution_count": null,
   "id": "00b862b9",
   "metadata": {},
   "outputs": [],
   "source": []
  },
  {
   "cell_type": "code",
   "execution_count": null,
   "id": "ee37eabe",
   "metadata": {},
   "outputs": [],
   "source": [
    "# dict\n",
    "\n",
    "student = {\"Name\":\"Rajini\",\n",
    "            \"course\":\"python\",\n",
    "            \"fee\":12000}\n",
    "\n",
    "for s in student:\n",
    "    print(s)"
   ]
  },
  {
   "cell_type": "code",
   "execution_count": null,
   "id": "5a1f9f58",
   "metadata": {},
   "outputs": [],
   "source": []
  },
  {
   "cell_type": "markdown",
   "id": "dbab1c2e",
   "metadata": {},
   "source": [
    "#### range base for loop\n",
    "\n",
    "- we have control index locations\n",
    "- maily used to change the data at locations\n",
    "- customized output"
   ]
  },
  {
   "cell_type": "code",
   "execution_count": null,
   "id": "69decf59",
   "metadata": {},
   "outputs": [],
   "source": [
    "# LIST"
   ]
  },
  {
   "cell_type": "code",
   "execution_count": null,
   "id": "e72cac5b",
   "metadata": {},
   "outputs": [],
   "source": [
    "\n",
    "list_data = [\"Python\",\"Course\",\"Fee\",\"Dollars\",True,10.28989]\n",
    "\n",
    "n = len(list_data)\n",
    "\n",
    "print(f'length of list is {n}')\n",
    "\n",
    "for ind in range(0,n):\n",
    "    print(ind , list_data[ind])"
   ]
  },
  {
   "cell_type": "code",
   "execution_count": null,
   "id": "31d7bbdf",
   "metadata": {},
   "outputs": [],
   "source": []
  },
  {
   "cell_type": "code",
   "execution_count": null,
   "id": "085647a4",
   "metadata": {},
   "outputs": [],
   "source": [
    "for ind in range(n):\n",
    "    if ind%2==1:\n",
    "        print(list_data[ind])"
   ]
  },
  {
   "cell_type": "code",
   "execution_count": null,
   "id": "4af57039",
   "metadata": {},
   "outputs": [],
   "source": []
  },
  {
   "cell_type": "code",
   "execution_count": null,
   "id": "784d8819",
   "metadata": {},
   "outputs": [],
   "source": [
    "for ind in range(n):\n",
    "    if ind%2==0:\n",
    "        list_data[ind] = ind**ind"
   ]
  },
  {
   "cell_type": "code",
   "execution_count": null,
   "id": "7ce0d1f4",
   "metadata": {},
   "outputs": [],
   "source": [
    "print(list_data)"
   ]
  },
  {
   "cell_type": "code",
   "execution_count": null,
   "id": "994e0867",
   "metadata": {},
   "outputs": [],
   "source": []
  },
  {
   "cell_type": "code",
   "execution_count": null,
   "id": "0fb3464d",
   "metadata": {},
   "outputs": [],
   "source": [
    "#reverse\n",
    "\n",
    "for index in range(-1,-n-1,-1):\n",
    "    print(list_data[index])"
   ]
  },
  {
   "cell_type": "code",
   "execution_count": null,
   "id": "c460cab5",
   "metadata": {},
   "outputs": [],
   "source": []
  },
  {
   "cell_type": "code",
   "execution_count": null,
   "id": "156a718e",
   "metadata": {},
   "outputs": [],
   "source": [
    "for i in range(n):\n",
    "    if (i>2):\n",
    "        print(comp[i])\n",
    "    else:\n",
    "        print(f\"{i} is less than given condition\")\n",
    "\n"
   ]
  },
  {
   "cell_type": "code",
   "execution_count": null,
   "id": "efac798f",
   "metadata": {},
   "outputs": [],
   "source": []
  },
  {
   "cell_type": "code",
   "execution_count": null,
   "id": "b116cb71",
   "metadata": {},
   "outputs": [],
   "source": [
    "comp = [\"Google\",\"Microsoft\",True , 1729 , 10e10 , 5+2j]\n",
    "\n",
    "loc = int(input(\"Enter the loc: \"))\n",
    "\n",
    "inp_dt= input(\"Enter the data to input: \")\n",
    "\n",
    "for i in range(len(comp)):\n",
    "    if(i==loc):\n",
    "        comp[i] = inp_dt\n",
    "print(comp)"
   ]
  },
  {
   "cell_type": "code",
   "execution_count": null,
   "id": "094ccc5e",
   "metadata": {},
   "outputs": [],
   "source": []
  },
  {
   "cell_type": "code",
   "execution_count": null,
   "id": "eea518d5",
   "metadata": {},
   "outputs": [],
   "source": [
    "comp = [\"Google\",\"Microsoft\",True , 1729 , 2j ,10e10 , 5+2j]\n",
    "for i in range(len(comp)):\n",
    "    if (type(comp[i]) in [complex,bool,int]):\n",
    "        print(comp[i])"
   ]
  },
  {
   "cell_type": "code",
   "execution_count": null,
   "id": "e73eee24",
   "metadata": {},
   "outputs": [],
   "source": []
  },
  {
   "cell_type": "code",
   "execution_count": null,
   "id": "a53f1938",
   "metadata": {},
   "outputs": [],
   "source": [
    "# TUPLE"
   ]
  },
  {
   "cell_type": "code",
   "execution_count": null,
   "id": "f9f33ca3",
   "metadata": {},
   "outputs": [],
   "source": [
    "# tuple\n",
    "prices = (55.2,90.2,67.2,51.2,10/3)\n",
    "\n",
    "for ind in range(len(prices)):\n",
    "    print(prices[ind])"
   ]
  },
  {
   "cell_type": "code",
   "execution_count": null,
   "id": "9fd793f2",
   "metadata": {},
   "outputs": [],
   "source": []
  },
  {
   "cell_type": "code",
   "execution_count": null,
   "id": "7e340c8d",
   "metadata": {},
   "outputs": [],
   "source": [
    "# STR"
   ]
  },
  {
   "cell_type": "code",
   "execution_count": null,
   "id": "6bd4e7a2",
   "metadata": {},
   "outputs": [],
   "source": [
    "lang = \"Python Is OOP's Languge\"\n",
    "\n"
   ]
  },
  {
   "cell_type": "code",
   "execution_count": null,
   "id": "1b739028",
   "metadata": {},
   "outputs": [],
   "source": []
  }
 ],
 "metadata": {
  "kernelspec": {
   "display_name": "Python 3",
   "language": "python",
   "name": "python3"
  },
  "language_info": {
   "codemirror_mode": {
    "name": "ipython",
    "version": 3
   },
   "file_extension": ".py",
   "mimetype": "text/x-python",
   "name": "python",
   "nbconvert_exporter": "python",
   "pygments_lexer": "ipython3",
   "version": "3.8.8"
  }
 },
 "nbformat": 4,
 "nbformat_minor": 5
}
